{
 "cells": [
  {
   "cell_type": "markdown",
   "metadata": {
    "id": "KH1K6cXFvnmj"
   },
   "source": [
    "<div align=\"center\"> <h3><font color='cyan'>CSE 4/574 Sections A&C&D: Introduction to Machine Learning, Spring 2023 </font> \n",
    "<h1> Assignment 0 - Python Intro\n",
    "\n",
    "<h3>Checkpoint: February 9, Thursday, 11:59pm\n",
    "<h2><font color='red'>Final Due Date: </font> February 16, Thu, 11:59pm</div>\n",
    "\n",
    "Welcome to your first CSE 574 assignment! The goal of this assignment is to sharpen your programming skills needed for this class. It is focused on familiarizing yourself with Python and main data science libraries that will be used for other assignments as well.\n",
    "\n",
    "There are a total of five parts. We will focus on basic Python functions, explore numpy, pandas and matplotlib libraries, sci-kit learning and analyze the real-world dataset.\n",
    "\n",
    "If you are new to Python, check our [Python resources page](https://ubuffalo-my.sharepoint.com/:w:/g/personal/avereshc_buffalo_edu/ESoUg6v6aoJImaeWXy90SqMBiubxGGAkG7dhaNyhuBum_w?e=3Tlwbz) and our class demos.\n",
    "\n",
    "\n",
    "### Submission\n",
    "\n",
    "All the details you need for this assignment are located within this notebook. You are expected to follow every block and complete the task within the marks ``` # BEGIN_YOUR_CODE ``` and ```# END_YOUR_CODE```. Do not modify or edit code beyond these lines. You can add helper functions in the new cells, if needed. We recommend completing the task within this .ipynb notebook, if needed you can convert it and submit as .py script. Try to make your code as clean and simple as possible and be sure to write your answers between the begin answer and end answer comments.\n",
    "\n",
    "1. Submit at **UBLearns > Assignments**\n",
    "2. The code of your implementations should be written in Python\n",
    "3. All project files should be packed in a ZIP file named YOUR_FIRST_NAME_YOUR_LAST_NAME_assignment0.zip (e.g. alina_vereshchaka_assignment0.zip).\n",
    "4. Your Jupyter notebook should be saved with the results. If you are submitting python scripts, after extracting the ZIP file and executing command python main.py in the first level directory, all the generated results and plots you used in your report should appear printed out in a clear manner.  \n",
    "6. Include all the references that have been used to complete the assignment at the end of the submittion.\n",
    "\n",
    "### Checkpoint Submission <font color='red'>[Due Date: Feb 9]</font>\n",
    "Complete Part 1, Part 2 and Part 3 and submit the .ipynb with the saved output in the ZIP file named YOUR_FIRST_NAME_YOUR_LAST_NAME_assignment0_checkpoint.zip. Checkpoint will be evaluated after the final submission.\n",
    "\n",
    "### Final Submission <font color='red'>[Due Date: Feb 16]</font>\n",
    "Complete all parts of the assignment and submit the code in the ZIP file named YOUR_FIRST_NAME_YOUR_LAST_NAME_assignment0_final.zip. You may add slight modification to your Checkpoint submission if needed.\n",
    "\n",
    "**Assignment Outline**\n",
    "\n",
    "| Part | Description | # of tasks | Points |\n",
    "| --- | --- | --- | --- |\n",
    "| [Part 1](#part1) | Basics, Numpy Basics | 19 | 20 |\n",
    "| [Part 2](#part2) | Algorithms | 2 | 20 |\n",
    "| [Part 3](#part3) | Pandas Basics | 7 | 20 |\n",
    "| [Part 4](#part4) | Matplotlib Basics | 8 | 20 |\n",
    "| [Part 5](#part5) | Sci-kit Learning Basics | 3 | 20 |\n",
    "\n",
    "    \n",
    "### Academic Integrity\n",
    "\n",
    "This assignment must be completed individually.\n",
    "The standing policy of the Department is that all students involved in any academic integrity violation (e.g. plagiarism in any way, shape, or form) will receive an F grade for the course. The catalog describes plagiarism as “Copying or receiving material from any source and submitting that material as one’s own, without acknowledging and citing the particular debts to the source, or in any other manner representing the work of another as one’s own.”. Refer to the [Office of Academic Integrity](https://www.buffalo.edu/academic-integrity.html) for more details.\n",
    "\n",
    "\n",
    "### Late Days Policy\n",
    "You can use up to 7 late days throughout the course toward any assignments' checkpoint or final submission. You do not have to inform the instructor, as the late submission will be tracked in UBlearns.\n",
    "\n",
    "### FAQ\n",
    ">What does 'raise Exception(\"Not implemented yet\")' mean?\n",
    "\n",
    "Here we define a custom exception to highlight that the task is not implemented yet. Once you implement your code, ensure to remove this part.\n",
    "\n",
    ">Can I add code beyond # BEGIN_YOUR_CODE parts.\n",
    "\n",
    "Yes, you can add helper functions. Add them in the separate cell with the comments, why you need it\n"
   ]
  },
  {
   "cell_type": "markdown",
   "metadata": {
    "id": "RiMGYifjvnmy"
   },
   "source": [
    "<a id='part1'></a>\n",
    "## Part 1 - Python and Numpy Basics [20 points]"
   ]
  },
  {
   "cell_type": "markdown",
   "metadata": {
    "id": "2LUCpwD6vnm1"
   },
   "source": [
    "The first part of this assignment gives you practice with python syntax. Follow the cells below for the instructions."
   ]
  },
  {
   "cell_type": "code",
   "execution_count": 6,
   "metadata": {
    "id": "mPqn5CYn4cKx"
   },
   "outputs": [
    {
     "name": "stdout",
     "output_type": "stream",
     "text": [
      "hyderabad\n",
      "\n",
      "\n",
      "bali\n",
      "\n",
      "\n",
      "las vegas\n",
      "\n",
      "\n",
      "germany\n",
      "\n",
      "\n",
      "cork\n",
      "\n",
      "\n",
      "['hyderabad', 'bali', 'las vegas', 'germany', 'cork']\n"
     ]
    }
   ],
   "source": [
    "''' Adding elements to a list during the runtime\n",
    "Create an empty list and add five of your favourite holiday destinations to the list during the runtime using functions input() and append()\n",
    "Print out the list.\n",
    "\n",
    "'''\n",
    "\n",
    "# BEGIN_YOUR_CODE\n",
    "list_1 = []\n",
    "for i in range(0,5):\n",
    "    list_element = input()\n",
    "    print(\"\\n\")\n",
    "    list_1.append(list_element)\n",
    "print(list_1)\n",
    "\n",
    "# END_YOUR_CODE"
   ]
  },
  {
   "cell_type": "code",
   "execution_count": 7,
   "metadata": {
    "id": "l-ZQOmT34cKx"
   },
   "outputs": [
    {
     "name": "stdout",
     "output_type": "stream",
     "text": [
      "[0, 5, 10, 15, 20, 25]\n"
     ]
    }
   ],
   "source": [
    "''' Updating elements\n",
    "Given a string my_list, update the third element to 10 and sixth element to 25, so the output is as follows: [0, 5, 10, 15, 20, 25]\n",
    "Print out the updated list.\n",
    "'''\n",
    "\n",
    "my_list = [0, 5, 'ten', 15, 20, 'twenty five']\n",
    "\n",
    "# BEGIN_YOUR_CODE\n",
    "my_list[2] = 10\n",
    "my_list[5] = 25\n",
    "print(my_list)\n",
    "# END_YOUR_CODE"
   ]
  },
  {
   "cell_type": "code",
   "execution_count": 8,
   "metadata": {
    "id": "W624nhy44cKx"
   },
   "outputs": [
    {
     "name": "stdout",
     "output_type": "stream",
     "text": [
      "4\n"
     ]
    }
   ],
   "source": [
    "'''Write a program to find a total number of \"the\" in the sentence \"the theatrics of neither these nor those\" using regular expressions.\n",
    "  Return the total number of \"the\"\n",
    "'''\n",
    "import re\n",
    "sentence = \"the theatrics of neither these nor those\"\n",
    "\n",
    "# BEGIN_YOUR_CODE\n",
    "list = re.findall(\"the\", sentence)\n",
    "print(len(list))\n",
    "# END_YOUR_CODE"
   ]
  },
  {
   "cell_type": "code",
   "execution_count": 9,
   "metadata": {
    "id": "pYW7jZF2vnm2"
   },
   "outputs": [
    {
     "name": "stdout",
     "output_type": "stream",
     "text": [
      " \n",
      "1  \n",
      "2 4  \n",
      "3 6 9  \n",
      "4 8 12 16  \n",
      "5 10 15 20 25  \n",
      "6 12 18 24 30 36  \n"
     ]
    }
   ],
   "source": [
    "''' Pattern\n",
    "Write a function that will print the following pattern:\n",
    "1\n",
    "2 4\n",
    "3 6 9\n",
    "4 8 12 16\n",
    "5 10 15 20 25\n",
    "6 12 18 24 30 36\n",
    "\n",
    "Only submissions with a written function that will encode this pattern will be considered for evaluation\n",
    "'''\n",
    "\n",
    "# BEGIN_YOUR_CODE\n",
    "#function to print the following pattern\n",
    "def pattern_print(n):\n",
    "    for i in range(0,n+1):\n",
    "        for j in range(1, i+1):\n",
    "            print(i * j, end=\" \")\n",
    "        print(\" \")      \n",
    "pattern_print(6)\n",
    "# END_YOUR_CODE"
   ]
  },
  {
   "cell_type": "code",
   "execution_count": 10,
   "metadata": {
    "id": "eQ7SJvrLvnm5"
   },
   "outputs": [
    {
     "name": "stdout",
     "output_type": "stream",
     "text": [
      "['Avengers', 'Age of Ultron', 'Infinity War', 'Endgame']\n"
     ]
    }
   ],
   "source": [
    "''' Reversing\n",
    "Reverse the order of elements in a list given below, so the output is as follows: ['Avengers', 'Age of Ultron', 'Infinity War', 'Endgame']\n",
    "Print the reversed list.\n",
    "'''\n",
    "\n",
    "list1 = [\"Endgame\", \"Infinity War\", \"Age of Ultron\", \"Avengers\"]\n",
    "\n",
    "# BEGIN_YOUR_CODE\n",
    "reversed_list = list1[::-1]\n",
    "print(reversed_list)\n",
    "# END_YOUR_CODE"
   ]
  },
  {
   "cell_type": "code",
   "execution_count": 67,
   "metadata": {
    "id": "vsIKrnuFvnm7"
   },
   "outputs": [
    {
     "data": {
      "text/plain": [
       "['1.Chris Evans', '2.Chris Hemsworth']"
      ]
     },
     "execution_count": 67,
     "metadata": {},
     "output_type": "execute_result"
    }
   ],
   "source": [
    "'''Numbering a list\n",
    "Write a function that will return a numbered list of the famous actors whose name starts from 'C' using \"enumerate()\" function.\n",
    "'''\n",
    "\n",
    "actors = ['Robert Downey Jr.', 'Scarlett Johansson', 'Chris Evans', 'Chris Hemsworth', 'Mark Ruffalo']\n",
    "\n",
    "# BEGIN_YOUR_CODE\n",
    "def enum_fun(actors):\n",
    "    actors_c = []\n",
    "    for i in actors:\n",
    "        if i[0][0] ==\"C\":\n",
    "            actors_c.append(i)\n",
    "    numbered_list = []\n",
    "    number = 0\n",
    "    for index, actor_name in enumerate(actors_c,1):\n",
    "        number = number + 1\n",
    "        numbered_list.append(f'{number}.{actor_name}')\n",
    "    return numbered_list       \n",
    "enum_fun(actors)\n",
    "# END_YOUR_CODE"
   ]
  },
  {
   "cell_type": "code",
   "execution_count": 66,
   "metadata": {
    "id": "Izsh0n6Hvnm8"
   },
   "outputs": [
    {
     "name": "stdout",
     "output_type": "stream",
     "text": [
      "[('Robert Downey Jr.', 'Iron Man'), ('Scarlett Johansson', 'Black Widow'), ('Chris Evans', 'Captain America'), ('Chris Hemsworth', 'Thor'), ('Mark Ruffalo', 'Hulk')]\n"
     ]
    }
   ],
   "source": [
    "'''Combining lists\n",
    "Combine two lists given below using zip() function and print out the result\n",
    "'''\n",
    "\n",
    "actors = ['Robert Downey Jr.', 'Scarlett Johansson', 'Chris Evans', 'Chris Hemsworth', 'Mark Ruffalo']\n",
    "role = ['Iron Man', 'Black Widow', 'Captain America', 'Thor', 'Hulk']\n",
    "\n",
    "# BEGIN_YOUR_CODE\n",
    "list_1 = zip(actors,role)\n",
    "zipped_list = list(list_1)\n",
    "#print(list(zip(actors,role)))\n",
    "print(zipped_list)\n",
    "# END_YOUR_CODE"
   ]
  },
  {
   "cell_type": "code",
   "execution_count": 16,
   "metadata": {
    "id": "tM242AlVvnm9"
   },
   "outputs": [],
   "source": [
    "''' Sum function\n",
    "Modify the function below to return a sum of a and b\n",
    "'''\n",
    "\n",
    "def add(a: int, b: int) -> int:\n",
    "    \n",
    "    # BEGIN_YOUR_CODE\n",
    "    return a+b\n",
    "    raise Exception(\"Not implemented yet\")\n",
    "\n",
    "    # END_YOUR_CODE"
   ]
  },
  {
   "cell_type": "markdown",
   "metadata": {
    "id": "o4HwFdtlvnm_"
   },
   "source": [
    "We defined ```add_test``` to test your ```add``` function. For this function we ```import random``` library. This is a very commonly used package that helps to generate random values. For example:\n",
    "\n",
    "``` python\n",
    "random.randint(0, 100) #Returns any random integer from 0 to 100\n",
    "```"
   ]
  },
  {
   "cell_type": "code",
   "execution_count": 17,
   "metadata": {
    "id": "TfVs9QUIvnnA"
   },
   "outputs": [
    {
     "data": {
      "text/plain": [
       "'Value of a is 3, value of b is 3, and their sum is 6.'"
      ]
     },
     "execution_count": 17,
     "metadata": {},
     "output_type": "execute_result"
    }
   ],
   "source": [
    "import random\n",
    "\n",
    "def add_test():\n",
    "    a = random.randint(0, 9)\n",
    "    b = random.randint(0, 9)\n",
    "    result = add(a, b)\n",
    "\n",
    "    return('Value of a is {0}, value of b is {1}, and their sum is {2}.'.format(a, b,result))\n",
    "add_test()"
   ]
  },
  {
   "cell_type": "code",
   "execution_count": 18,
   "metadata": {
    "id": "cOLrlf2GvnnB"
   },
   "outputs": [
    {
     "name": "stdout",
     "output_type": "stream",
     "text": [
      "Value of a is 2, value of b is 1, and their sum is 3.\n"
     ]
    }
   ],
   "source": [
    "# Here we call our function 'add_test' to test your add function with random values\n",
    "if __name__ == '__main__':\n",
    "   print(add_test())"
   ]
  },
  {
   "cell_type": "markdown",
   "metadata": {
    "id": "-JmI82NyvnnC"
   },
   "source": [
    "In this section we will explore one of the most commonly used package - Numpy. You can refer to the [Official NumPy Guide](https://numpy.org/doc/stable/)."
   ]
  },
  {
   "cell_type": "code",
   "execution_count": 2,
   "metadata": {
    "id": "CstiC-8CvnnC",
    "outputId": "1b82ebc3-44eb-42ca-8865-5bf100f87aee"
   },
   "outputs": [],
   "source": [
    "'''Import the numpy package\n",
    "'''\n",
    "\n",
    "# BEGIN_YOUR_CODE\n",
    "import numpy as np\n",
    "# END_YOUR_CODE"
   ]
  },
  {
   "cell_type": "code",
   "execution_count": 3,
   "metadata": {
    "id": "2Cdaj9aTvnnE",
    "outputId": "c344675b-1293-439e-d88d-a30241a020ac"
   },
   "outputs": [
    {
     "name": "stdout",
     "output_type": "stream",
     "text": [
      "[34 16 13 34 28 17 11 10 38 14]\n"
     ]
    }
   ],
   "source": [
    "''' Random integers\n",
    "Create an array of random integers from 0 to 50 with the length 10 using numpy random generator.\n",
    "Print the results.\n",
    "'''\n",
    "\n",
    "# BEGIN_YOUR_CODE\n",
    "#(0,50) specify the range in which the random numbers have to be generated\n",
    "# 10 is the length\n",
    "array_of_rand_numbers = np.random.randint(0,50,10)\n",
    "print(array_of_rand_numbers)\n",
    "# END_YOUR_CODE"
   ]
  },
  {
   "cell_type": "code",
   "execution_count": 4,
   "metadata": {
    "colab": {
     "base_uri": "https://localhost:8080/",
     "height": 36
    },
    "id": "D_NEdSyVvnnF",
    "outputId": "f8f4c208-b41d-4576-8ef0-adbd553d55ac"
   },
   "outputs": [
    {
     "name": "stdout",
     "output_type": "stream",
     "text": [
      "The first 2 elements are [34 16] \n",
      "The last two elements are [38 14] \n",
      "Elements in the middle are [13 34 28 17 11 10].\n"
     ]
    }
   ],
   "source": [
    "''' Slicing\n",
    "Slice the above array and extract the first 2 elements, the last two elements, and all elements that are left in the middle.\n",
    "'''\n",
    "\n",
    "# BEGIN_YOUR_CODE\n",
    "first_two = array_of_rand_numbers[:2]\n",
    "last_two = array_of_rand_numbers[8:]\n",
    "middle = array_of_rand_numbers[2:8]\n",
    "# END_YOUR_CODE\n",
    "\n",
    "print('The first 2 elements are {0} \\nThe last two elements are {1} \\nElements in the middle are {2}.'.format(first_two, last_two, middle))"
   ]
  },
  {
   "cell_type": "code",
   "execution_count": 5,
   "metadata": {
    "id": "sHAJk2Qf4cKz",
    "outputId": "b0534000-6b4c-4f38-cdfb-ae063af03f79"
   },
   "outputs": [
    {
     "name": "stdout",
     "output_type": "stream",
     "text": [
      "[array([34, 16]), array([13, 34]), array([28, 17]), array([11, 10]), array([38, 14])]\n"
     ]
    }
   ],
   "source": [
    "'''Split an array\n",
    "For the above list 'array' split the list into 5 equal parts  and print it in the form\n",
    "[array([1,2]), array([3,4]), array([5,6]), array([7,8]), array([9,10])]\n",
    "\n",
    "'''\n",
    "\n",
    "# BEGIN_YOUR_CODE\n",
    "new_array_of_random_numbers = np.array_split(array_of_rand_numbers,5)\n",
    "print(new_array_of_random_numbers)\n",
    "# END_YOUR_CODE"
   ]
  },
  {
   "cell_type": "code",
   "execution_count": 6,
   "metadata": {
    "id": "zMNArJqJ4cKz",
    "outputId": "f6b3ef77-8b53-4d03-f2b1-24f204d7aea0"
   },
   "outputs": [
    {
     "name": "stdout",
     "output_type": "stream",
     "text": [
      "Unique elements of array 1\n",
      "[ 4 15 17 70 74 80 82 90 93 99]\n",
      "Common elements in Array 1 and Array 2\n",
      "[15 99]\n"
     ]
    }
   ],
   "source": [
    "'''Generate two arrays of size 10 (integers randomly selected between 1 and 100). \n",
    "Print unique elements of array1 and common elements of both arrays separately\n",
    "'''\n",
    "\n",
    "# BEGIN_YOUR_CODE\n",
    "array_1 = np.random.randint(1,100,10)\n",
    "array_2 = np.random.randint(1,100,10)\n",
    "print('Unique elements of array 1')\n",
    "print(np.unique(array_1))\n",
    "print('Common elements in Array 1 and Array 2')\n",
    "print(np.intersect1d(array_1,array_2))\n",
    "# END_YOUR_CODE"
   ]
  },
  {
   "cell_type": "code",
   "execution_count": 9,
   "metadata": {
    "id": "x39Fry3OvnnF"
   },
   "outputs": [
    {
     "data": {
      "text/plain": [
       "(2, 4)"
      ]
     },
     "execution_count": 9,
     "metadata": {},
     "output_type": "execute_result"
    }
   ],
   "source": [
    "'''Changing dimensions\n",
    "Convert your 1D array defined above to a 2D matrix and print its shape. The final output dimension should be 2x4.\n",
    "'''\n",
    "\n",
    "# BEGIN_YOUR_CODE\n",
    "resized_array = np.resize(array_1,8)\n",
    "reshaped_array = np.reshape(resized_array,(2,4))\n",
    "reshaped_array.shape\n",
    "# END_YOUR_CODE"
   ]
  },
  {
   "cell_type": "code",
   "execution_count": 45,
   "metadata": {
    "id": "GTPk6XwivnnG"
   },
   "outputs": [
    {
     "name": "stdout",
     "output_type": "stream",
     "text": [
      "(6,)\n"
     ]
    }
   ],
   "source": [
    "'''Changing dimensions\n",
    "Convert a matrix below to 1D array and print its dimension\n",
    "'''\n",
    "\n",
    "A = np.array([[3,4], [5,6], [7,8]])\n",
    "\n",
    "# BEGIN_YOUR_CODE\n",
    "B = np.ravel(A)\n",
    "print(np.shape(B))\n",
    "# END_YOUR_CODE"
   ]
  },
  {
   "cell_type": "code",
   "execution_count": 11,
   "metadata": {
    "id": "ALyMwuojvnnM"
   },
   "outputs": [
    {
     "name": "stdout",
     "output_type": "stream",
     "text": [
      "\n",
      "Matrix A is \n",
      "[[0 0 1 1 0 1]\n",
      " [1 0 1 1 1 0]\n",
      " [0 0 0 0 1 0]\n",
      " [0 1 0 1 1 1]] \n",
      "Matrix B is \n",
      "[[1 0 1 0]\n",
      " [1 1 1 1]\n",
      " [0 0 1 1]\n",
      " [1 0 0 1]\n",
      " [0 0 1 1]\n",
      " [0 0 1 0]], \n",
      "Their product is \n",
      "[[1 0 2 2]\n",
      " [2 0 3 3]\n",
      " [0 0 1 1]\n",
      " [2 1 3 3]]\n"
     ]
    }
   ],
   "source": [
    "''' Matrices\n",
    "Create two matrices A and B of size 4X6 and 6X4 respectively with random values from 0 to 1, and perform the dot product on them\n",
    "'''\n",
    "\n",
    "# BEGIN_YOUR_CODE\n",
    "#generated numbers ranging from 0-1\n",
    "A = np.random.randint(2,size = (4,6))\n",
    "B = np.random.randint(2,size = (6,4))\n",
    "dot_product = np.dot(A,B)\n",
    "# END_YOUR_CODE\n",
    "\n",
    "print('\\nMatrix A is \\n{0} \\nMatrix B is \\n{1}, \\nTheir product is \\n{2}'.format(A, B, dot_product))"
   ]
  },
  {
   "cell_type": "code",
   "execution_count": 12,
   "metadata": {
    "id": "khuCG55GvnnO"
   },
   "outputs": [
    {
     "name": "stdout",
     "output_type": "stream",
     "text": [
      "[[0 0 5 5 0 5]\n",
      " [5 0 5 5 5 0]\n",
      " [0 0 0 0 5 0]\n",
      " [0 5 0 5 5 5]]\n"
     ]
    }
   ],
   "source": [
    "''' Multiply the Matrix A from previous question with a scalar 5 using multiply() function\n",
    "'''\n",
    "\n",
    "# BEGIN_YOUR_CODE\n",
    "final_matrix = np.multiply(A,5)\n",
    "print(final_matrix)\n",
    "# END_YOUR_CODE"
   ]
  },
  {
   "cell_type": "code",
   "execution_count": 13,
   "metadata": {
    "id": "cf2kSBLXvnnN"
   },
   "outputs": [
    {
     "name": "stdout",
     "output_type": "stream",
     "text": [
      "1\n"
     ]
    }
   ],
   "source": [
    "''' Maximum value\n",
    "Return the maximum value in each row of Matrix A created in the previous question. \n",
    "Result should come in the form: [row1_max row2_max row3_max row4_max row5_max]\n",
    "Print our the results\n",
    "'''\n",
    "\n",
    "# BEGIN_YOUR_CODE\n",
    "max = np.amax(A)\n",
    "print(max)\n",
    "# END_YOUR_CODE"
   ]
  },
  {
   "cell_type": "code",
   "execution_count": 14,
   "metadata": {
    "id": "KVFM3ERnvnnP"
   },
   "outputs": [
    {
     "name": "stdout",
     "output_type": "stream",
     "text": [
      "\n",
      "Matrix A is \n",
      "[[0 1 6 9]\n",
      " [7 4 6 6]\n",
      " [3 9 8 2]] \n",
      "Matrix B is \n",
      "[[5 9 4 3]\n",
      " [9 0 0 5]\n",
      " [1 5 5 6]], \n",
      "Their element-wise multiplication is \n",
      "[[ 0  9 24 27]\n",
      " [63  0  0 30]\n",
      " [ 3 45 40 12]]\n"
     ]
    }
   ],
   "source": [
    "''' Element-wise multiplication\n",
    "Define two matrices A (3X4) and B (3X4) with random values from 0 to 9. Perform element-wise multiplication of Matrices A and B\n",
    "''' \n",
    "\n",
    "# BEGIN_YOUR_CODE\n",
    "#generates random numbers from 0 - 9\n",
    "A = np.random.randint(10,size = (3,4))\n",
    "B = np.random.randint(10,size = (3,4))\n",
    "multiplication = np.multiply(A,B)\n",
    "# END_YOUR_CODE\n",
    "\n",
    "print('\\nMatrix A is \\n{0} \\nMatrix B is \\n{1}, \\nTheir element-wise multiplication is \\n{2}'.format(A, B, multiplication))"
   ]
  },
  {
   "cell_type": "markdown",
   "metadata": {
    "id": "uiyFNoJivnnQ"
   },
   "source": [
    "<a id='part3'></a>\n",
    "## Part 2 - Algorithms [30 points]"
   ]
  },
  {
   "cell_type": "markdown",
   "metadata": {
    "id": "bE9PC_sEvnnQ"
   },
   "source": [
    "### Euclidian Distance\n",
    "\n",
    "Let point $p$ have Cartesian coordinates $(p_1,p_2)$ and let point $q$ have coordinates $(q_1,q_2)$. Then the distance between $p$ and $q$ is given by:\n",
    "    $d(p,q) = \\sqrt{(q_1-p_1)^2 + (q_2-p_2)^2}$.</math>"
   ]
  },
  {
   "cell_type": "code",
   "execution_count": 42,
   "metadata": {
    "id": "eWfSpbVqvnnR"
   },
   "outputs": [],
   "source": [
    "''' Euclidean distance\n",
    "Using numpy library return the Euclidean distance between two locations, where the locations are pairs of numbers (e.g., (3, 5)) '''\n",
    "\n",
    "def euclidean_distance(loc1: int, loc2: int) -> float:\n",
    "\n",
    "    # BEGIN_YOUR_CODE\n",
    "    loc_1 = np.array(loc1)\n",
    "    loc_2 = np.array(loc2)\n",
    "    squared = np.square(loc_1-loc_2)\n",
    "    squared_sum = np.sum(squared)\n",
    "    squared_root_sum = np.sqrt(squared_sum)\n",
    "    return squared_root_sum\n",
    "    raise Exception(\"Not implemented yet\")\n",
    "\n",
    "    # END_YOUR_CODE"
   ]
  },
  {
   "cell_type": "code",
   "execution_count": 43,
   "metadata": {
    "id": "aKXPrvGBvnnR"
   },
   "outputs": [],
   "source": [
    "import random\n",
    "def euclidean_distance_test():\n",
    "    random.seed(42)\n",
    "    for _ in range(10):\n",
    "        x1 = random.randint(0, 10)\n",
    "        x2 = random.randint(0, 10)\n",
    "        y1 = random.randint(0, 10)\n",
    "        y2 = random.randint(0, 10)\n",
    "        dist = euclidean_distance((x1,x2), (y1,y2))\n",
    "    return('Loc1 is ({0}, {1}), loc2 is ({2}, {3}). Euclidian disctance is {4}.'.format(x1, x2, y1, y2, dist))"
   ]
  },
  {
   "cell_type": "code",
   "execution_count": 44,
   "metadata": {
    "id": "yI3g4R1hvnnR"
   },
   "outputs": [
    {
     "name": "stdout",
     "output_type": "stream",
     "text": [
      "Loc1 is (3, 5), loc2 is (1, 1). Euclidian disctance is 4.47213595499958.\n"
     ]
    }
   ],
   "source": [
    "if __name__ == '__main__':\n",
    "    print(euclidean_distance_test())"
   ]
  },
  {
   "cell_type": "markdown",
   "metadata": {
    "id": "lTuFruDrvnnR"
   },
   "source": [
    "### String Operations"
   ]
  },
  {
   "cell_type": "code",
   "execution_count": 60,
   "metadata": {
    "id": "AGJHIeXkvnnS"
   },
   "outputs": [],
   "source": [
    "''' Alphabetically first word\n",
    "Given a string, lowercase, sort our all words in the alphabetical order and return the word that comes first.\n",
    "If the input text is an empty string, return an empty string or throw an error. '''\n",
    "\n",
    "def first_word(text: str) -> str:\n",
    "    # BEGIN_YOUR_CODE\n",
    "    length = len(text)\n",
    "    if length==0:\n",
    "        return str\n",
    "    else:\n",
    "        list_1 = text.split()\n",
    "        sorted_list_1 = sorted(list_1,key=str.lower)\n",
    "    return sorted_list_1[0]\n",
    "    #raise Exception(\"Not implemented yet\")\n",
    "    # END_YOUR_CODE"
   ]
  },
  {
   "cell_type": "code",
   "execution_count": 61,
   "metadata": {
    "id": "Suevhw9TvnnS"
   },
   "outputs": [],
   "source": [
    "def first_word_test():\n",
    "    result0 = first_word('WelCome tO Ub')\n",
    "    result1 = first_word('CSE574 IntRo to ML cLasS')\n",
    "    result2 = first_word('SequenCes of DeCiSions')\n",
    "    result3 = first_word('Wolf, Panther, Leopard, Dog, Cat')\n",
    "    return result0, result1, result2, result3"
   ]
  },
  {
   "cell_type": "code",
   "execution_count": 62,
   "metadata": {
    "id": "DfSoFXLrvnnT"
   },
   "outputs": [
    {
     "name": "stdout",
     "output_type": "stream",
     "text": [
      "('tO', 'cLasS', 'DeCiSions', 'Cat')\n"
     ]
    }
   ],
   "source": [
    "if __name__ == '__main__':\n",
    "    print(first_word_test())"
   ]
  },
  {
   "cell_type": "markdown",
   "metadata": {
    "id": "zW6tTqawDOBv"
   },
   "source": [
    "## Load from Drive*\n",
    "\n",
    "*If you are using Goolge Colab, uncomment the following piece of code and verify the file using the command, if you can see your file ```penguins.csv``` you are good to go."
   ]
  },
  {
   "cell_type": "code",
   "execution_count": null,
   "metadata": {
    "id": "cpnuC4e04cK2"
   },
   "outputs": [],
   "source": [
    "# !pwd\n",
    "# !ls"
   ]
  },
  {
   "cell_type": "code",
   "execution_count": null,
   "metadata": {
    "id": "nV7Jv5SPDGsy"
   },
   "outputs": [],
   "source": [
    "#from google.colab import drive\n",
    "#drive.mount('/content/drive')\n",
    "#%cd ..\n",
    "#%cd /content/drive/MyDrive"
   ]
  },
  {
   "cell_type": "markdown",
   "metadata": {
    "id": "zGMa8NVpvnnU"
   },
   "source": [
    "<a id='part4'></a>\n",
    "##  Part 3 - Pandas Basics [20 points]\n",
    "\n",
    "Some important resources:\n",
    "\n",
    "- [A Pandas guide](https://pandasguide.readthedocs.io/en/latest/) covers fundamental information about the package\n",
    "\n",
    "- [Pandas Cheat Sheet](https://www.datacamp.com/community/blog/python-pandas-cheat-sheet)\n",
    "\n",
    "### Penguin dataset\n",
    "In this section we will explore with you Palmer Archipelago (Antarctica) penguin dataset. It contains three penguin species and includes measurements of bill length, bill depth, flipper length and body mass. Overall, we are provided with 344 data samples.\n",
    "![image.png](attachment:image.png)\n",
    "\n",
    "The dataset consists of 7 columns:\n",
    "- species: penguin species (Chinstrap, Adélie, or Gentoo)\n",
    "- culmen_length_mm: culmen length (mm)\n",
    "- culmen_depth_mm: culmen depth (mm)\n",
    "- flipper_length_mm: flipper length (mm)\n",
    "- body_mass_g: body mass (g)\n",
    "- island: island name (Dream, Torgersen, or Biscoe) in the Palmer Archipelago (Antarctica)\n",
    "- sex: penguin sex (female, male)\n",
    "\n",
    "#### What are culmen length & depth?\n",
    "The culmen is \"the upper ridge of a bird's beak\"\n",
    "\n",
    "#### What are flippers?\n",
    "Penguins wings are called flippers. They are flat, thin, and broad with a long, tapered shape and a blunt, rounded tip.\n",
    " \n",
    "![image.png](attachment:image-2.png)\n"
   ]
  },
  {
   "cell_type": "code",
   "execution_count": 46,
   "metadata": {
    "id": "-JA6l-hpvnnU"
   },
   "outputs": [],
   "source": [
    "'''Install and import pandas library\n",
    "'''\n",
    "\n",
    "# BEGIN_YOUR_CODE\n",
    "import pandas as pd\n",
    "# END_YOUR_CODE"
   ]
  },
  {
   "cell_type": "code",
   "execution_count": 25,
   "metadata": {
    "id": "vNYL_RNyvnnV"
   },
   "outputs": [],
   "source": [
    "'''Read given 'DataFile' and extract into Dataframe\n",
    "'''\n",
    "\n",
    "# BEGIN_YOUR_CODE\n",
    "_dataframe_ = pd.read_csv(r\"C:\\Users\\hp\\Downloads\\penguins.csv\")\n",
    "# END_YOUR_CODE"
   ]
  },
  {
   "cell_type": "code",
   "execution_count": 26,
   "metadata": {
    "id": "nQhbLF7CvnnV"
   },
   "outputs": [
    {
     "data": {
      "text/html": [
       "<div>\n",
       "<style scoped>\n",
       "    .dataframe tbody tr th:only-of-type {\n",
       "        vertical-align: middle;\n",
       "    }\n",
       "\n",
       "    .dataframe tbody tr th {\n",
       "        vertical-align: top;\n",
       "    }\n",
       "\n",
       "    .dataframe thead th {\n",
       "        text-align: right;\n",
       "    }\n",
       "</style>\n",
       "<table border=\"1\" class=\"dataframe\">\n",
       "  <thead>\n",
       "    <tr style=\"text-align: right;\">\n",
       "      <th></th>\n",
       "      <th>bill_length_mm</th>\n",
       "      <th>bill_depth_mm</th>\n",
       "      <th>flipper_length_mm</th>\n",
       "      <th>body_mass_g</th>\n",
       "      <th>year</th>\n",
       "    </tr>\n",
       "  </thead>\n",
       "  <tbody>\n",
       "    <tr>\n",
       "      <th>count</th>\n",
       "      <td>342.000000</td>\n",
       "      <td>342.000000</td>\n",
       "      <td>342.000000</td>\n",
       "      <td>342.000000</td>\n",
       "      <td>344.000000</td>\n",
       "    </tr>\n",
       "    <tr>\n",
       "      <th>mean</th>\n",
       "      <td>43.921930</td>\n",
       "      <td>17.151170</td>\n",
       "      <td>200.915205</td>\n",
       "      <td>4201.754386</td>\n",
       "      <td>2008.029070</td>\n",
       "    </tr>\n",
       "    <tr>\n",
       "      <th>std</th>\n",
       "      <td>5.459584</td>\n",
       "      <td>1.974793</td>\n",
       "      <td>14.061714</td>\n",
       "      <td>801.954536</td>\n",
       "      <td>0.818356</td>\n",
       "    </tr>\n",
       "    <tr>\n",
       "      <th>min</th>\n",
       "      <td>32.100000</td>\n",
       "      <td>13.100000</td>\n",
       "      <td>172.000000</td>\n",
       "      <td>2700.000000</td>\n",
       "      <td>2007.000000</td>\n",
       "    </tr>\n",
       "    <tr>\n",
       "      <th>25%</th>\n",
       "      <td>39.225000</td>\n",
       "      <td>15.600000</td>\n",
       "      <td>190.000000</td>\n",
       "      <td>3550.000000</td>\n",
       "      <td>2007.000000</td>\n",
       "    </tr>\n",
       "    <tr>\n",
       "      <th>50%</th>\n",
       "      <td>44.450000</td>\n",
       "      <td>17.300000</td>\n",
       "      <td>197.000000</td>\n",
       "      <td>4050.000000</td>\n",
       "      <td>2008.000000</td>\n",
       "    </tr>\n",
       "    <tr>\n",
       "      <th>75%</th>\n",
       "      <td>48.500000</td>\n",
       "      <td>18.700000</td>\n",
       "      <td>213.000000</td>\n",
       "      <td>4750.000000</td>\n",
       "      <td>2009.000000</td>\n",
       "    </tr>\n",
       "    <tr>\n",
       "      <th>max</th>\n",
       "      <td>59.600000</td>\n",
       "      <td>21.500000</td>\n",
       "      <td>231.000000</td>\n",
       "      <td>6300.000000</td>\n",
       "      <td>2009.000000</td>\n",
       "    </tr>\n",
       "  </tbody>\n",
       "</table>\n",
       "</div>"
      ],
      "text/plain": [
       "       bill_length_mm  bill_depth_mm  flipper_length_mm  body_mass_g  \\\n",
       "count      342.000000     342.000000         342.000000   342.000000   \n",
       "mean        43.921930      17.151170         200.915205  4201.754386   \n",
       "std          5.459584       1.974793          14.061714   801.954536   \n",
       "min         32.100000      13.100000         172.000000  2700.000000   \n",
       "25%         39.225000      15.600000         190.000000  3550.000000   \n",
       "50%         44.450000      17.300000         197.000000  4050.000000   \n",
       "75%         48.500000      18.700000         213.000000  4750.000000   \n",
       "max         59.600000      21.500000         231.000000  6300.000000   \n",
       "\n",
       "              year  \n",
       "count   344.000000  \n",
       "mean   2008.029070  \n",
       "std       0.818356  \n",
       "min    2007.000000  \n",
       "25%    2007.000000  \n",
       "50%    2008.000000  \n",
       "75%    2009.000000  \n",
       "max    2009.000000  "
      ]
     },
     "execution_count": 26,
     "metadata": {},
     "output_type": "execute_result"
    }
   ],
   "source": [
    "'''Provide the main statistics about the entries of the dataset (mean, std, etc.)\n",
    "'''\n",
    "\n",
    "# BEGIN_YOUR_CODE\n",
    "_dataframe_.describe()\n",
    "# END_YOUR_CODE"
   ]
  },
  {
   "cell_type": "code",
   "execution_count": 27,
   "metadata": {
    "id": "JnuZGhGwvnnW"
   },
   "outputs": [
    {
     "name": "stdout",
     "output_type": "stream",
     "text": [
      "(344, 8)\n"
     ]
    }
   ],
   "source": [
    "''' Print shape of the dataset '''\n",
    "\n",
    "# BEGIN_YOUR_CODE\n",
    "dataframe_shape = _dataframe_.shape\n",
    "print(dataframe_shape)\n",
    "# END_YOUR_CODE"
   ]
  },
  {
   "cell_type": "code",
   "execution_count": 28,
   "metadata": {
    "id": "nFWD5zl8vnne"
   },
   "outputs": [
    {
     "name": "stdout",
     "output_type": "stream",
     "text": [
      "['species' 'island' 'bill_length_mm' 'bill_depth_mm' 'flipper_length_mm'\n",
      " 'body_mass_g' 'sex' 'year']\n"
     ]
    }
   ],
   "source": [
    "''' Return all the column names'''\n",
    "\n",
    "# BEGIN_YOUR_CODE\n",
    "print(_dataframe_.columns.values)\n",
    "#print(column_names)\n",
    "# END_YOUR_CODE"
   ]
  },
  {
   "cell_type": "code",
   "execution_count": 29,
   "metadata": {
    "id": "6-1Dj0sGvnng"
   },
   "outputs": [
    {
     "name": "stdout",
     "output_type": "stream",
     "text": [
      "['Adelie', 'Chinstrap', 'Gentoo']\n"
     ]
    }
   ],
   "source": [
    "''' Print a list of penguin species '''\n",
    "\n",
    "# BEGIN_YOUR_CODE\n",
    "list_1 = list(_dataframe_['species'])\n",
    "set_1 = set(list_1)\n",
    "new_list = list(set_1)\n",
    "print(new_list)\n",
    "# END_YOUR_CODE"
   ]
  },
  {
   "cell_type": "code",
   "execution_count": 30,
   "metadata": {
    "id": "nl9T08Pc4cK3"
   },
   "outputs": [
    {
     "name": "stdout",
     "output_type": "stream",
     "text": [
      "  species     island  bill_length_mm  bill_depth_mm  flipper_length_mm  \\\n",
      "0  Adelie  Torgersen            39.1           18.7              181.0   \n",
      "1  Adelie  Torgersen            39.5           17.4              186.0   \n",
      "2  Adelie  Torgersen            40.3           18.0              195.0   \n",
      "3  Adelie  Torgersen             NaN            NaN                NaN   \n",
      "4  Adelie  Torgersen            36.7           19.3              193.0   \n",
      "5  Adelie  Torgersen            39.3           20.6              190.0   \n",
      "6  Adelie  Torgersen            38.9           17.8              181.0   \n",
      "7  Adelie  Torgersen            39.2           19.6              195.0   \n",
      "8  Adelie  Torgersen            34.1           18.1              193.0   \n",
      "9  Adelie  Torgersen            42.0           20.2              190.0   \n",
      "\n",
      "   body_mass_g     sex  year  \n",
      "0       3750.0    male  2007  \n",
      "1       3800.0  female  2007  \n",
      "2       3250.0  female  2007  \n",
      "3          NaN     NaN  2007  \n",
      "4       3450.0  female  2007  \n",
      "5       3650.0    male  2007  \n",
      "6       3625.0  female  2007  \n",
      "7       4675.0    male  2007  \n",
      "8       3475.0     NaN  2007  \n",
      "9       4250.0     NaN  2007  \n"
     ]
    }
   ],
   "source": [
    "'''Print top 10 rows of the dataset'''\n",
    "\n",
    "# BEGIN_YOUR_CODE\n",
    "ten_rows = _dataframe_.head(10)\n",
    "print(ten_rows)\n",
    "# END_YOUR_CODE"
   ]
  },
  {
   "cell_type": "markdown",
   "metadata": {
    "id": "YNq5ppEGvnnh"
   },
   "source": [
    "<a id='part5'></a>\n",
    "## Part 4 - Matplotlib Basics [20 points]"
   ]
  },
  {
   "cell_type": "markdown",
   "metadata": {
    "id": "MyidlhZlIPa2"
   },
   "source": [
    "Heatmaps is a useful plot tool which help us visualize the data density or distribution. Refer the below documentation for more details on heatmap.\n",
    "\n",
    "[Matplotlib tutorial](https://machinelearningknowledge.ai/matplotlib-heatmap-complete-tutorial-for-beginners/)\n",
    "\n",
    "**Note:** You can only use matplotlib library for the following tasks"
   ]
  },
  {
   "cell_type": "code",
   "execution_count": 43,
   "metadata": {
    "id": "bfFqEdGEvnnh"
   },
   "outputs": [],
   "source": [
    "''' Install and import matplotlib library\n",
    "'''\n",
    "\n",
    "# BEGIN_YOUR_CODE\n",
    "import matplotlib.pyplot as plt\n",
    "import numpy as np\n",
    "# END_YOUR_CODE"
   ]
  },
  {
   "cell_type": "code",
   "execution_count": 3,
   "metadata": {
    "id": "25-jR3OHstb_"
   },
   "outputs": [
    {
     "data": {
      "text/plain": [
       "<matplotlib.image.AxesImage at 0x1b8d5e73520>"
      ]
     },
     "execution_count": 3,
     "metadata": {},
     "output_type": "execute_result"
    },
    {
     "data": {
      "image/png": "[encoded data removed]",
      "text/plain": [
       "<Figure size 640x480 with 1 Axes>"
      ]
     },
     "metadata": {},
     "output_type": "display_data"
    }
   ],
   "source": [
    "''' Heatmap\n",
    "Take any random numpy array of dimension 12x15 and plot a heatmap\n",
    "'''\n",
    "\n",
    "# BEGIN YOUR CODE\n",
    "random_array = np.random.rand(12,15)\n",
    "#print(random_array)\n",
    "#imshow() creates heatmap from a numpy array of a specified dimension\n",
    "plt.imshow(random_array, cmap='tab20_r')\n",
    "# END YOUR CODE"
   ]
  },
  {
   "cell_type": "code",
   "execution_count": 72,
   "metadata": {
    "id": "VD6WIdUU4-PA"
   },
   "outputs": [
    {
     "data": {
      "image/png": "[encoded data removed]",
      "text/plain": [
       "<Figure size 640x480 with 1 Axes>"
      ]
     },
     "metadata": {},
     "output_type": "display_data"
    }
   ],
   "source": [
    "'''For the given value x plot the function y = 1/x using list comprehension on y.\n",
    "You can check https://docs.python.org/3/tutorial/datastructures.html#list-comprehensions to learn how to use list comprehension\n",
    "'''\n",
    "import numpy as np\n",
    "\n",
    "x = range(1,26)\n",
    "# BEGIN YOUR CODE\n",
    "y = [1/i for i in x]\n",
    "#print(y)\n",
    "#print(x_array)\n",
    "#print(y_array)\n",
    "plt.plot(x,y,'c')\n",
    "plt.show()\n",
    "# END YOUR CODE"
   ]
  },
  {
   "cell_type": "code",
   "execution_count": 73,
   "metadata": {
    "id": "GB4uqfd8K495"
   },
   "outputs": [
    {
     "data": {
      "text/plain": [
       "[<matplotlib.lines.Line2D at 0x217efacf520>]"
      ]
     },
     "execution_count": 73,
     "metadata": {},
     "output_type": "execute_result"
    },
    {
     "data": {
      "image/png": "[encoded data removed]",
      "text/plain": [
       "<Figure size 640x480 with 1 Axes>"
      ]
     },
     "metadata": {},
     "output_type": "display_data"
    }
   ],
   "source": [
    "'''For the given value x plot the function y = x^3 using lambda function y.\n",
    "\n",
    "Lambda function is a small anonymous function which consist of a single expression, and is usually used when we need the function for a smaller duration\n",
    "https://realpython.com/python-lambda/\n",
    "'''\n",
    "\n",
    "x = range(25)\n",
    "\n",
    "# BEGIN YOUR CODE\n",
    "#y = lambda : [i**3 for i in x]\n",
    "y = lambda x:x**3\n",
    "#y_1 = [i for i in y]\n",
    "y_1 = [y(i) for i in x]\n",
    "#y_list = list(y)\n",
    "#print(y_1)\n",
    "plt.plot(x,y_1,'c')\n",
    "#plt.plot(lambda x:x**3)\n",
    "# END YOUR CODE\n"
   ]
  },
  {
   "cell_type": "code",
   "execution_count": 75,
   "metadata": {
    "id": "p6TJB7sK4cK4"
   },
   "outputs": [
    {
     "data": {
      "image/png": "[encoded data removed]",
      "text/plain": [
       "<Figure size 640x480 with 1 Axes>"
      ]
     },
     "metadata": {},
     "output_type": "display_data"
    },
    {
     "name": "stdout",
     "output_type": "stream",
     "text": [
      "Green line equation: y = x^4\n",
      "Red line equation: y = x^3\n"
     ]
    }
   ],
   "source": [
    "'''On one graph draw two lines:\n",
    "1) Plot the function y = x^3 using lambda function y (use your code from above)\n",
    "2) A scatter plot for y = x^4 using either list comprehension or lambda function for evaluating y\n",
    "'''\n",
    "\n",
    "x = range(25)\n",
    "#by defaul the value on x-axis is the no of elements in x. i.e 25 in this case.\n",
    "# BEGIN YOUR CODE\n",
    "y_1 = lambda x:x**3\n",
    "y_1_l = [y_1(i) for i in x]\n",
    "y_2 = lambda x:x**4\n",
    "y_2_l = [y_2(i) for i in x]\n",
    "plt.plot(x,y_1_l,'r--',x,y_2_l,'g')\n",
    "\n",
    "plt.show()\n",
    "print(\"Green line equation: y = x^4\")\n",
    "print(\"Red line equation: y = x^3\")\n",
    "# END YOUR CODE"
   ]
  },
  {
   "cell_type": "code",
   "execution_count": 64,
   "metadata": {
    "id": "AEbDCKYH7UfV"
   },
   "outputs": [
    {
     "data": {
      "text/plain": [
       "[<matplotlib.lines.Line2D at 0x217ef7188b0>]"
      ]
     },
     "execution_count": 64,
     "metadata": {},
     "output_type": "execute_result"
    },
    {
     "data": {
      "image/png": "[encoded data removed]",
      "text/plain": [
       "<Figure size 640x480 with 2 Axes>"
      ]
     },
     "metadata": {},
     "output_type": "display_data"
    }
   ],
   "source": [
    "'''Create subplots showing graphs of tan and cot side by side of each other\n",
    "the value of theta ranges from -60 to 60\n",
    "\n",
    "HINT: You might want to utilize np.linspace() or np.arrange() to create smooth curves\n",
    "'''\n",
    "\n",
    "import math\n",
    "import matplotlib.pyplot as plt\n",
    "# BEGIN YOUR CODE\n",
    "fig, axes = plt.subplots(1,2)\n",
    "x_tan = np.linspace(-1/3 * np.pi, 1/3 * np.pi)\n",
    "x_cos = np.linspace(-1/3 * np.pi, 1/3 * np.pi)\n",
    "axes[0].plot(x_tan, np.tan(x_tan),'r')\n",
    "axes[1].plot(x_cos, 1/np.tan(x_tan),'g')\n",
    "# END YOUR CODE"
   ]
  },
  {
   "cell_type": "code",
   "execution_count": 41,
   "metadata": {
    "id": "yENY45pIs_S9"
   },
   "outputs": [
    {
     "data": {
      "text/plain": [
       "<AxesSubplot:>"
      ]
     },
     "execution_count": 41,
     "metadata": {},
     "output_type": "execute_result"
    },
    {
     "data": {
      "image/png": "[encoded data removed]",
      "text/plain": [
       "<Figure size 640x480 with 1 Axes>"
      ]
     },
     "metadata": {},
     "output_type": "display_data"
    }
   ],
   "source": [
    "''' Penguin (\"penguin.csv\"): total number of penguins per Species\n",
    "Plot a graph which shows the total number of penguins per species\n",
    "'''\n",
    "import pandas as pd\n",
    "\n",
    "# BEGIN YOUR CODE\n",
    "_dataframe_ = pd.read_csv(\"penguins.csv\")\n",
    "#print(_dataframe_['species'])\n",
    "_dataframe_.species.value_counts().plot(kind = 'bar')\n",
    "#after getting the count of each species we are taking them into a dataframe and directly plotting it\n",
    "\n",
    "\n",
    "# END YOUR CODE"
   ]
  },
  {
   "cell_type": "code",
   "execution_count": 42,
   "metadata": {
    "id": "oD--lSLQ4cK5"
   },
   "outputs": [
    {
     "data": {
      "text/plain": [
       "<AxesSubplot:>"
      ]
     },
     "execution_count": 42,
     "metadata": {},
     "output_type": "execute_result"
    },
    {
     "data": {
      "image/png": "[encoded data removed]",
      "text/plain": [
       "<Figure size 640x480 with 1 Axes>"
      ]
     },
     "metadata": {},
     "output_type": "display_data"
    }
   ],
   "source": [
    "''' Penguin (\"penguin.csv\"): total number of penguins between range of body mass\n",
    "Plot a graph which shows the total number of penguins having body_mass_g between 3200 and 4500\n",
    "'''\n",
    "\n",
    "# BEGIN YOUR CODE\n",
    "#new_dataframe = _dataframe_[['species','body_mass_g']].copy()\n",
    "#print(new_dataframe)\n",
    "df = _dataframe_[(_dataframe_['body_mass_g']>3200) & (_dataframe_['body_mass_g']<4500)]\n",
    "df.species.value_counts().plot(kind='bar')\n",
    "#new_df['species'].plot(kind='bar')\n",
    "#plot(kind = 'bar')\n",
    "# END YOUR CODE"
   ]
  },
  {
   "cell_type": "markdown",
   "metadata": {
    "id": "Oo6h1NH6R6Pq"
   },
   "source": [
    "#### Results analyzing\n",
    "\n",
    "Analyze the graph and answer the following two questions:\n",
    "\n",
    "**1) What is your inference from the above graph?**\n",
    "\n",
    "*YOUR ANSWER:* From the above graphs, it can be inferred that from the given dataset, penguins belonging to the \"Adelie\" species are highest in number(i.e 152 in number) while penguins belonging to the \"Gentoo\" species are the least(i.e 68 in number).\n",
    "\n",
    "**2) Which species has the most number of penguins having body_mass_g between 3200 and 4500?**\n",
    "\n",
    "*YOUR ANSWER:* \"Adelie\" species have the most number of penguins that have the body_mass_g between 3200 and 4500.\n",
    "\n",
    "**3) Which is the most common species of penguins?**\n",
    "\n",
    "*YOUR ANSWER:* The most common species of penguins is \"Adelie\". There are 152 penguins belonging to the same species in the given dataset.\n"
   ]
  },
  {
   "cell_type": "markdown",
   "metadata": {
    "id": "qB6WA8H64cK5"
   },
   "source": [
    "# Part 5 - Sckit-learn Basics\n",
    "\n",
    "Skit-learn is a commonly used data analysis library. It contains in-build unsupervised and supervised learning algorithms. Check more details here - https://scikit-learn.org/stable/\n",
    "In this part we will use "
   ]
  },
  {
   "cell_type": "code",
   "execution_count": 4,
   "metadata": {
    "id": "6cm6j0VtyK2e"
   },
   "outputs": [],
   "source": [
    "'''Install and import scikit-learn library\n",
    "'''\n",
    "\n",
    "# BEGIN_YOUR_CODE\n",
    "#sklearn is for implementing machine learning algorithms\n",
    "import sklearn\n",
    "import pandas as pd\n",
    "from sklearn.model_selection import train_test_split\n",
    "# END_YOUR_CODE"
   ]
  },
  {
   "cell_type": "code",
   "execution_count": 5,
   "metadata": {
    "id": "g6l3M4JiyK2e"
   },
   "outputs": [],
   "source": [
    "''' Prepare Penguins dataset for training\n",
    "    Define our X_data = all the columns, exept 'Species'. You can use drop() function\n",
    "    Define Y_target = 'Species' column from the dataset\n",
    "    Using train_test_split function divide the dataset into training and testing as 80/20. \n",
    "'''\n",
    "\n",
    "# BEGIN_YOUR_CODE\n",
    "df = pd.read_csv(\"penguins.csv\")\n",
    "#dropping the rows containing NaN values\n",
    "df.dropna(inplace=True)\n",
    "#print(df)\n",
    "X_data = df[['island', 'bill_length_mm', 'bill_depth_mm', 'flipper_length_mm', 'body_mass_g', 'sex', 'year']].copy()\n",
    "#print(X_data)\n",
    "Y_target = df[['species']].copy()\n",
    "#print(Y_target)\n",
    "X_encoded_data = pd.get_dummies(X_data, columns = ['island', 'sex'])\n",
    "#print(X_encoded_data)\n",
    "X_train, X_test, Y_train, Y_test = train_test_split(X_encoded_data, Y_target,test_size = 0.2, random_state = 0)\n",
    "# END_YOUR_CODE"
   ]
  },
  {
   "cell_type": "code",
   "execution_count": 6,
   "metadata": {
    "id": "w_QuYKbvyK2e"
   },
   "outputs": [
    {
     "name": "stdout",
     "output_type": "stream",
     "text": [
      "Accuracy of the model is: 0.9850746268656716\n",
      "Parameter Values are:\n"
     ]
    },
    {
     "name": "stderr",
     "output_type": "stream",
     "text": [
      "C:\\anaconda\\lib\\site-packages\\sklearn\\utils\\validation.py:993: DataConversionWarning: A column-vector y was passed when a 1d array was expected. Please change the shape of y to (n_samples, ), for example using ravel().\n",
      "  y = column_or_1d(y, warn=True)\n",
      "C:\\anaconda\\lib\\site-packages\\sklearn\\linear_model\\_logistic.py:814: ConvergenceWarning: lbfgs failed to converge (status=1):\n",
      "STOP: TOTAL NO. of ITERATIONS REACHED LIMIT.\n",
      "\n",
      "Increase the number of iterations (max_iter) or scale the data as shown in:\n",
      "    https://scikit-learn.org/stable/modules/preprocessing.html\n",
      "Please also refer to the documentation for alternative solver options:\n",
      "    https://scikit-learn.org/stable/modules/linear_model.html#logistic-regression\n",
      "  n_iter_i = _check_optimize_result(\n"
     ]
    },
    {
     "data": {
      "text/plain": [
       "{'C': 1.0,\n",
       " 'class_weight': None,\n",
       " 'dual': False,\n",
       " 'fit_intercept': True,\n",
       " 'intercept_scaling': 1,\n",
       " 'l1_ratio': None,\n",
       " 'max_iter': 100,\n",
       " 'multi_class': 'auto',\n",
       " 'n_jobs': None,\n",
       " 'penalty': 'l2',\n",
       " 'random_state': None,\n",
       " 'solver': 'lbfgs',\n",
       " 'tol': 0.0001,\n",
       " 'verbose': 0,\n",
       " 'warm_start': False}"
      ]
     },
     "execution_count": 6,
     "metadata": {},
     "output_type": "execute_result"
    }
   ],
   "source": [
    "''' Fit the model\n",
    "    Create and fit a logistic regression model to predict the 'Species' of a penguin using all of the other features in the dataset.\n",
    "    You can use one hot encoding to encode categorical-based feature ('island' and 'sex').\n",
    "    You can read more about the inbuild Logistic Regression model here - https://scikit-learn.org/stable/modules/generated/sklearn.linear_model.LogisticRegression.html\n",
    "    Return the accuracy_score of your prediction and parameter values\n",
    "'''\n",
    "from sklearn.linear_model import LogisticRegression\n",
    "from sklearn.metrics import accuracy_score\n",
    "# BEGIN_YOUR_CODE                                   \n",
    "#categorical data is data in the form of strings\n",
    "#X_data consists of 7 columns, after one-hot encoding is performed on the X_data the total number of columns now are 10 as the duplication has been done\n",
    "#print(X_data['island'].unique())\n",
    "#print(X_data['sex'].unique())\n",
    "#checking for label counts\n",
    "#print(X_data['island'].value_counts())\n",
    "#print(X_data['sex'].value_counts())\n",
    "#ONE HOT ENCODING\n",
    "#X_encoded_data = pd.get_dummies(X_train, columns = ['island', 'sex'])\n",
    "#print(X_encoded_data)\n",
    "#fitting the model\n",
    "model = LogisticRegression()\n",
    "model.fit(X_train,Y_train)\n",
    "predicted_values = model.predict(X_test)\n",
    "score =accuracy_score(Y_test,predicted_values)\n",
    "print(\"Accuracy of the model is:\",score)\n",
    "print(\"Parameter Values are:\")\n",
    "model.get_params()\n",
    "# END_YOUR_CODE"
   ]
  },
  {
   "cell_type": "markdown",
   "metadata": {
    "id": "toxZCPhevnni"
   },
   "source": [
    "## References Used\n",
    "\n",
    "**List below all the references you used to complete this assignment**"
   ]
  },
  {
   "cell_type": "markdown",
   "metadata": {
    "id": "YW_6TvjFrilZ"
   },
   "source": [
    "https://pandas.pydata.org/docs/"
   ]
  },
  {
   "cell_type": "markdown",
   "metadata": {
    "id": "jhnNAIEH4cK5"
   },
   "source": [
    "https://numpy.org/doc/"
   ]
  },
  {
   "cell_type": "markdown",
   "metadata": {
    "id": "e_Ig4hgH4cK5"
   },
   "source": [
    "https://www.geeksforgeeks.org/"
   ]
  },
  {
   "cell_type": "markdown",
   "metadata": {
    "id": "i9Jl34yN4cK5"
   },
   "source": []
  }
 ],
 "metadata": {
  "celltoolbar": "Raw Cell Format",
  "colab": {
   "provenance": []
  },
  "kernelspec": {
   "display_name": "Python 3 (ipykernel)",
   "language": "python",
   "name": "python3"
  },
  "language_info": {
   "codemirror_mode": {
    "name": "ipython",
    "version": 3
   },
   "file_extension": ".py",
   "mimetype": "text/x-python",
   "name": "python",
   "nbconvert_exporter": "python",
   "pygments_lexer": "ipython3",
   "version": "3.9.13"
  },
  "vscode": {
   "interpreter": {
    "hash": "68b275f025d6728071a958497b9f8c302ed1ae4ff22f4ec2c8359f6dd0b66064"
   }
  }
 },
 "nbformat": 4,
 "nbformat_minor": 1
}
